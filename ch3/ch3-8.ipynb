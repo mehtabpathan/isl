{
 "cells": [
  {
   "cell_type": "code",
   "execution_count": 1,
   "metadata": {
    "collapsed": true
   },
   "outputs": [],
   "source": [
    "%matplotlib inline\n",
    "import pandas as pd\n",
    "from statsmodels.formula.api import ols"
   ]
  },
  {
   "cell_type": "code",
   "execution_count": 2,
   "metadata": {
    "collapsed": true
   },
   "outputs": [],
   "source": [
    "autoDataset = pd.read_csv('../datasets/auto.csv')"
   ]
  },
  {
   "cell_type": "code",
   "execution_count": 3,
   "metadata": {
    "collapsed": true
   },
   "outputs": [],
   "source": [
    "autoDatasetNoMissing = autoDataset[['mpg', 'horsepower']].dropna()"
   ]
  },
  {
   "cell_type": "code",
   "execution_count": 4,
   "metadata": {
    "collapsed": true
   },
   "outputs": [],
   "source": [
    "mpgHorsePowerOls = ols(formula='mpg ~ horsepower', data=autoDatasetNoMissing).fit()"
   ]
  },
  {
   "cell_type": "code",
   "execution_count": 5,
   "metadata": {},
   "outputs": [
    {
     "name": "stdout",
     "output_type": "stream",
     "text": [
      "                            OLS Regression Results                            \n",
      "==============================================================================\n",
      "Dep. Variable:                    mpg   R-squared:                       0.795\n",
      "Model:                            OLS   Adj. R-squared:                  0.731\n",
      "Method:                 Least Squares   F-statistic:                     12.60\n",
      "Date:                Thu, 23 Nov 2017   Prob (F-statistic):           2.79e-64\n",
      "Time:                        08:17:34   Log-Likelihood:                -1065.5\n",
      "No. Observations:                 397   AIC:                             2319.\n",
      "Df Residuals:                     303   BIC:                             2694.\n",
      "Df Model:                          93                                         \n",
      "Covariance Type:            nonrobust                                         \n",
      "=====================================================================================\n",
      "                        coef    std err          t      P>|t|      [0.025      0.975]\n",
      "-------------------------------------------------------------------------------------\n",
      "Intercept            19.5941      0.984     19.920      0.000      17.658      21.530\n",
      "horsepower[T.102]     0.4059      4.173      0.097      0.923      -7.806       8.618\n",
      "horsepower[T.103]     0.7059      4.173      0.169      0.866      -7.506       8.918\n",
      "horsepower[T.105]     0.9059      1.529      0.592      0.554      -2.103       3.915\n",
      "horsepower[T.107]     1.4059      4.173      0.337      0.736      -6.806       9.618\n",
      "horsepower[T.108]    -0.5941      4.173     -0.142      0.887      -8.806       7.618\n",
      "horsepower[T.110]     0.2392      1.372      0.174      0.862      -2.460       2.938\n",
      "horsepower[T.112]     0.0725      2.540      0.029      0.977      -4.925       5.070\n",
      "horsepower[T.113]     6.4059      4.173      1.535      0.126      -1.806      14.618\n",
      "horsepower[T.115]     5.1459      2.063      2.494      0.013       1.086       9.206\n",
      "horsepower[T.116]     5.8059      4.173      1.391      0.165      -2.406      14.018\n",
      "horsepower[T.120]    -1.0191      2.254     -0.452      0.651      -5.454       3.416\n",
      "horsepower[T.122]     0.4059      4.173      0.097      0.923      -7.806       8.618\n",
      "horsepower[T.125]     0.1392      2.540      0.055      0.956      -4.859       5.137\n",
      "horsepower[T.129]    -4.2941      3.032     -1.416      0.158     -10.260       1.672\n",
      "horsepower[T.130]    -4.3941      2.063     -2.130      0.034      -8.454      -0.334\n",
      "horsepower[T.132]    13.1059      4.173      3.140      0.002       4.894      21.318\n",
      "horsepower[T.133]    -3.3941      4.173     -0.813      0.417     -11.606       4.818\n",
      "horsepower[T.135]    -1.3941      4.173     -0.334      0.739      -9.606       6.818\n",
      "horsepower[T.137]    -5.5941      4.173     -1.340      0.181     -13.806       2.618\n",
      "horsepower[T.138]    -3.0941      4.173     -0.741      0.459     -11.306       5.118\n",
      "horsepower[T.139]    -0.4441      3.032     -0.146      0.884      -6.410       5.522\n",
      "horsepower[T.140]    -3.2513      1.821     -1.785      0.075      -6.835       0.333\n",
      "horsepower[T.142]    -4.0941      4.173     -0.981      0.327     -12.306       4.118\n",
      "horsepower[T.145]    -4.1370      1.821     -2.271      0.024      -7.721      -0.553\n",
      "horsepower[T.148]    -5.5941      4.173     -1.340      0.181     -13.806       2.618\n",
      "horsepower[T.149]    -3.5941      4.173     -0.861      0.390     -11.806       4.618\n",
      "horsepower[T.150]    -4.8896      1.310     -3.733      0.000      -7.467      -2.312\n",
      "horsepower[T.152]    -5.0941      4.173     -1.221      0.223     -13.306       3.118\n",
      "horsepower[T.153]    -5.5941      3.032     -1.845      0.066     -11.560       0.372\n",
      "horsepower[T.155]    -4.6441      3.032     -1.532      0.127     -10.610       1.322\n",
      "horsepower[T.158]    -6.5941      4.173     -1.580      0.115     -14.806       1.618\n",
      "horsepower[T.160]    -6.5941      3.032     -2.175      0.030     -12.560      -0.628\n",
      "horsepower[T.165]    -4.6691      2.254     -2.072      0.039      -9.104      -0.234\n",
      "horsepower[T.167]    -7.5941      4.173     -1.820      0.070     -15.806       0.618\n",
      "horsepower[T.170]    -5.0941      2.063     -2.469      0.014      -9.154      -1.034\n",
      "horsepower[T.175]    -6.1941      2.063     -3.002      0.003     -10.254      -2.134\n",
      "horsepower[T.180]    -6.0941      2.063     -2.954      0.003     -10.154      -2.034\n",
      "horsepower[T.190]    -5.0941      2.540     -2.006      0.046     -10.092      -0.096\n",
      "horsepower[T.193]   -10.5941      4.173     -2.539      0.012     -18.806      -2.382\n",
      "horsepower[T.198]    -6.0941      3.032     -2.010      0.045     -12.060      -0.128\n",
      "horsepower[T.200]    -9.5941      4.173     -2.299      0.022     -17.806      -1.382\n",
      "horsepower[T.208]    -8.5941      4.173     -2.059      0.040     -16.806      -0.382\n",
      "horsepower[T.210]    -8.5941      4.173     -2.059      0.040     -16.806      -0.382\n",
      "horsepower[T.215]    -7.2608      2.540     -2.859      0.005     -12.259      -2.263\n",
      "horsepower[T.220]    -5.5941      4.173     -1.340      0.181     -13.806       2.618\n",
      "horsepower[T.225]    -6.2608      2.540     -2.465      0.014     -11.259      -1.263\n",
      "horsepower[T.230]    -3.5941      4.173     -0.861      0.390     -11.806       4.618\n",
      "horsepower[T.46]      6.4059      3.032      2.113      0.035       0.440      12.372\n",
      "horsepower[T.48]     24.0059      2.540      9.452      0.000      19.008      29.004\n",
      "horsepower[T.49]      9.4059      4.173      2.254      0.025       1.194      17.618\n",
      "horsepower[T.52]     14.6059      2.254      6.481      0.000      10.171      19.041\n",
      "horsepower[T.53]     13.4059      3.032      4.422      0.000       7.440      19.372\n",
      "horsepower[T.54]      3.4059      4.173      0.816      0.415      -4.806      11.618\n",
      "horsepower[T.58]     17.9559      3.032      5.923      0.000      11.990      23.922\n",
      "horsepower[T.60]     12.5659      2.063      6.090      0.000       8.506      16.626\n",
      "horsepower[T.61]     12.4059      4.173      2.973      0.003       4.194      20.618\n",
      "horsepower[T.62]     14.1559      3.032      4.669      0.000       8.190      20.122\n",
      "horsepower[T.63]     14.8059      2.540      5.830      0.000       9.808      19.804\n",
      "horsepower[T.64]     19.4059      4.173      4.650      0.000      11.194      27.618\n",
      "horsepower[T.65]     15.8859      1.616      9.829      0.000      12.705      19.066\n",
      "horsepower[T.66]     16.5059      4.173      3.955      0.000       8.294      24.718\n",
      "horsepower[T.67]     13.9975      1.529      9.154      0.000      10.989      17.007\n",
      "horsepower[T.68]     12.5892      1.926      6.537      0.000       8.799      16.379\n",
      "horsepower[T.69]     13.1725      2.540      5.187      0.000       8.175      18.170\n",
      "horsepower[T.70]     12.8809      1.529      8.424      0.000       9.872      15.890\n",
      "horsepower[T.71]      9.4259      2.063      4.568      0.000       5.366      13.486\n",
      "horsepower[T.72]      2.3892      1.926      1.241      0.216      -1.401       6.179\n",
      "horsepower[T.74]     13.9392      2.540      5.488      0.000       8.941      18.937\n",
      "horsepower[T.75]      9.4416      1.464      6.451      0.000       6.561      12.322\n",
      "horsepower[T.76]     11.4559      2.254      5.083      0.000       7.021      15.891\n",
      "horsepower[T.77]      5.8059      4.173      1.391      0.165      -2.406      14.018\n",
      "horsepower[T.78]      7.2059      1.926      3.742      0.000       3.416      10.996\n",
      "horsepower[T.79]      7.4059      3.032      2.443      0.015       1.440      13.372\n",
      "horsepower[T.80]      9.0059      1.821      4.945      0.000       5.422      12.590\n",
      "horsepower[T.81]      4.9059      3.032      1.618      0.107      -1.060      10.872\n",
      "horsepower[T.82]     11.4059      4.173      2.733      0.007       3.194      19.618\n",
      "horsepower[T.83]      8.5309      2.254      3.785      0.000       4.096      12.966\n",
      "horsepower[T.84]     10.5392      1.926      5.473      0.000       6.749      14.329\n",
      "horsepower[T.85]      3.8725      1.672      2.316      0.021       0.583       7.162\n",
      "horsepower[T.86]      4.6059      2.063      2.232      0.026       0.546       8.666\n",
      "horsepower[T.87]      3.4059      3.032      1.123      0.262      -2.560       9.372\n",
      "horsepower[T.88]      5.4848      1.354      4.051      0.000       2.820       8.149\n",
      "horsepower[T.89]      5.9059      4.173      1.415      0.158      -2.306      14.118\n",
      "horsepower[T.90]      4.7609      1.338      3.559      0.000       2.128       7.394\n",
      "horsepower[T.91]      0.4059      4.173      0.097      0.923      -7.806       8.618\n",
      "horsepower[T.92]      8.0392      1.926      4.174      0.000       4.249      11.829\n",
      "horsepower[T.93]      6.4059      4.173      1.535      0.126      -1.806      14.618\n",
      "horsepower[T.94]      2.4059      4.173      0.577      0.565      -5.806      10.618\n",
      "horsepower[T.95]      2.5202      1.464      1.722      0.086      -0.360       5.400\n",
      "horsepower[T.96]      7.5725      2.540      2.982      0.003       2.575      12.570\n",
      "horsepower[T.97]      2.5281      1.672      1.512      0.132      -0.762       5.818\n",
      "horsepower[T.98]      0.6559      3.032      0.216      0.829      -5.310       6.622\n",
      "horsepower[T.?]       9.4059      2.063      4.559      0.000       5.346      13.466\n",
      "==============================================================================\n",
      "Omnibus:                       52.669   Durbin-Watson:                   1.388\n",
      "Prob(Omnibus):                  0.000   Jarque-Bera (JB):               95.031\n",
      "Skew:                           0.773   Prob(JB):                     2.31e-21\n",
      "Kurtosis:                       4.831   Cond. No.                         49.7\n",
      "==============================================================================\n",
      "\n",
      "Warnings:\n",
      "[1] Standard Errors assume that the covariance matrix of the errors is correctly specified.\n"
     ]
    }
   ],
   "source": [
    "print(mpgHorsePowerOls.summary())\n",
    "\n",
    "# Is there a relationship between the predictor and the response?\n",
    "# - "
   ]
  }
 ],
 "metadata": {
  "kernelspec": {
   "display_name": "jupyter_Python_2",
   "language": "python",
   "name": "jupyter_python_2"
  },
  "language_info": {
   "codemirror_mode": {
    "name": "ipython",
    "version": 2
   },
   "file_extension": ".py",
   "mimetype": "text/x-python",
   "name": "python",
   "nbconvert_exporter": "python",
   "pygments_lexer": "ipython2",
   "version": "2.7.10"
  }
 },
 "nbformat": 4,
 "nbformat_minor": 2
}
